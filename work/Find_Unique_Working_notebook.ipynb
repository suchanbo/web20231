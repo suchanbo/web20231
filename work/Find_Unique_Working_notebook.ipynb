{
 "cells": [
  {
   "cell_type": "code",
   "execution_count": 1,
   "id": "f9df8a7a",
   "metadata": {},
   "outputs": [
    {
     "name": "stdout",
     "output_type": "stream",
     "text": [
      " 100% |█████████████████| 332/332 [218.4ms elapsed, 0s remaining, 1.5K samples/s]     \n",
      " 100% |█████████████████| 332/332 [8.3s elapsed, 0s remaining, 40.1 samples/s]      \n",
      "(332, 512)\n",
      "Generating index...\n",
      "Index complete\n",
      "Computing duplicate samples...\n",
      "Duplicates computation complete\n",
      "Unique samples found:146 at thresh=0.01\n",
      "Computing duplicate samples...\n",
      "Duplicates computation complete\n",
      "Unique samples found:145 at thresh=0.02\n",
      "the values in arr: [False]\n",
      "Computing duplicate samples...\n",
      "Duplicates computation complete\n",
      "\n",
      "Threshold fixed at:0.01 at continuity count of 1\n",
      "Total Unique samples collected: 146\n",
      "Imagenames of Unique samples are ['638760782cf41f33d79d6929', '638760782cf41f33d79d693e', '638760782cf41f33d79d6940', '638760782cf41f33d79d6942', '638760782cf41f33d79d6944', '638760782cf41f33d79d6946', '638760782cf41f33d79d6948', '638760782cf41f33d79d694b', '638760782cf41f33d79d694d', '638760782cf41f33d79d694f', '638760782cf41f33d79d6951', '638760782cf41f33d79d6953', '638760782cf41f33d79d6955', '638760782cf41f33d79d6957', '638760782cf41f33d79d695a', '638760782cf41f33d79d695c', '638760782cf41f33d79d695e', '638760782cf41f33d79d6960', '638760782cf41f33d79d6962', '638760782cf41f33d79d6964', '638760782cf41f33d79d6967', '638760782cf41f33d79d6969', '638760782cf41f33d79d696b', '638760782cf41f33d79d696d', '638760782cf41f33d79d696f', '638760782cf41f33d79d6971', '638760782cf41f33d79d6973', '638760782cf41f33d79d6976', '638760782cf41f33d79d6978', '638760782cf41f33d79d697a', '638760782cf41f33d79d697c', '638760782cf41f33d79d697e', '638760782cf41f33d79d6980', '638760782cf41f33d79d6983', '638760782cf41f33d79d6985', '638760782cf41f33d79d6987', '638760782cf41f33d79d6989', '638760782cf41f33d79d698b', '638760782cf41f33d79d698d', '638760782cf41f33d79d698f', '638760782cf41f33d79d6992', '638760782cf41f33d79d6994', '638760782cf41f33d79d6996', '638760782cf41f33d79d6998', '638760782cf41f33d79d699a', '638760782cf41f33d79d699c', '638760782cf41f33d79d699f', '638760782cf41f33d79d69a1', '638760782cf41f33d79d69a3', '638760782cf41f33d79d69a5', '638760782cf41f33d79d69a7', '638760782cf41f33d79d69a9', '638760782cf41f33d79d69ab', '638760782cf41f33d79d69ae', '638760782cf41f33d79d69b0', '638760782cf41f33d79d69b2', '638760782cf41f33d79d69b4', '638760782cf41f33d79d69b6', '638760782cf41f33d79d69b8', '638760782cf41f33d79d69bb', '638760782cf41f33d79d69bd', '638760782cf41f33d79d69bf', '638760782cf41f33d79d69c1', '638760782cf41f33d79d69c3', '638760782cf41f33d79d69c5', '638760782cf41f33d79d69c7', '638760782cf41f33d79d69ca', '638760782cf41f33d79d69cc', '638760782cf41f33d79d69ce', '638760782cf41f33d79d69d0', '638760782cf41f33d79d69d2', '638760782cf41f33d79d69d4', '638760782cf41f33d79d69d6', '638760782cf41f33d79d69d9', '638760782cf41f33d79d69db', '638760782cf41f33d79d69dd', '638760782cf41f33d79d69df', '638760782cf41f33d79d69e1', '638760782cf41f33d79d69e3', '638760782cf41f33d79d69e6', '638760782cf41f33d79d69e8', '638760782cf41f33d79d69ea', '638760782cf41f33d79d69ec', '638760782cf41f33d79d69ee', '638760792cf41f33d79d69f0', '638760792cf41f33d79d69f2', '638760792cf41f33d79d69f5', '638760792cf41f33d79d69f7', '638760792cf41f33d79d69f9', '638760792cf41f33d79d69fb', '638760792cf41f33d79d69fd', '638760792cf41f33d79d69ff', '638760792cf41f33d79d6a02', '638760792cf41f33d79d6a04', '638760792cf41f33d79d6a06', '638760792cf41f33d79d6a08', '638760792cf41f33d79d6a0a', '638760792cf41f33d79d6a0c', '638760792cf41f33d79d6a0e', '638760792cf41f33d79d6a11', '638760792cf41f33d79d6a13', '638760792cf41f33d79d6a15', '638760792cf41f33d79d6a17', '638760792cf41f33d79d6a19', '638760792cf41f33d79d6a1b', '638760792cf41f33d79d6a1e', '638760792cf41f33d79d6a20', '638760792cf41f33d79d6a22', '638760792cf41f33d79d6a24', '638760792cf41f33d79d6a26', '638760792cf41f33d79d6a28', '638760792cf41f33d79d6a2a', '638760792cf41f33d79d6a2d', '638760792cf41f33d79d6a2f', '638760792cf41f33d79d6a31', '638760792cf41f33d79d6a33', '638760792cf41f33d79d6a35', '638760792cf41f33d79d6a37', '638760792cf41f33d79d6a3a', '638760792cf41f33d79d6a3c', '638760792cf41f33d79d6a3e', '638760792cf41f33d79d6a40', '638760792cf41f33d79d6a42', '638760792cf41f33d79d6a44', '638760792cf41f33d79d6a46', '638760792cf41f33d79d6a49', '638760792cf41f33d79d6a4b', '638760792cf41f33d79d6a4d', '638760792cf41f33d79d6a4f', '638760792cf41f33d79d6a51', '638760792cf41f33d79d6a53', '638760792cf41f33d79d6a56', '638760792cf41f33d79d6a58', '638760792cf41f33d79d6a5a', '638760792cf41f33d79d6a5c', '638760792cf41f33d79d6a5e', '638760792cf41f33d79d6a60', '638760792cf41f33d79d6a62', '638760792cf41f33d79d6a65', '638760792cf41f33d79d6a67', '638760792cf41f33d79d6a69', '638760792cf41f33d79d6a6b', '638760792cf41f33d79d6a6d', '638760792cf41f33d79d6a6f', '638760792cf41f33d79d6a72', '638760792cf41f33d79d6a74']\n"
     ]
    }
   ],
   "source": [
    "import fiftyone as fo\n",
    "import fiftyone.brain as fob\n",
    "import fiftyone.brain.internal.models as fbm\n",
    "import numpy as np\n",
    "\n",
    "model = fbm.load_model(\"simple-resnet-cifar10\")\n",
    "\n",
    "def find_unique(dataset_dir,sub_thresh=0.01,subset_files=None):\n",
    "\ttry:\n",
    "\t\tfo.core.dataset.delete_non_persistent_datasets()\n",
    "\texcept:\n",
    "\t\tpass\n",
    "\tdataset = fo.Dataset.from_dir(dataset_dir=dataset_dir,dataset_type=fo.types.ImageDirectory,name='temp1',)\n",
    "\tif subset_files is not None:\n",
    "\t\tfor sample in dataset:\n",
    "\t\t\tif sample.filename not in subset_files:\n",
    "\t\t\t\tdataset.delete_samples(sample.id)\n",
    "\tembeddings = dataset.compute_embeddings(model, batch_size=16)\n",
    "\tprint(embeddings.shape)\n",
    "\tresults = fob.compute_similarity(dataset, embeddings=embeddings, brain_key=\"img_sim\")\n",
    "\tuniques,threshes=[],[]\n",
    "\tfor thresh in np.arange(0.01,1,0.01):\n",
    "\t\ttry:\n",
    "\t\t\tresults.find_duplicates(thresh=thresh)\n",
    "\t\t\tprint('Unique samples found:'+ str(len(results.unique_ids)) + ' at thresh='+str(thresh))\n",
    "\t\t\tuniques.append(len(results.unique_ids))\n",
    "\t\t\tthreshes.append(thresh)\n",
    "\t\t\tif len(uniques)>1:\n",
    "\t\t\t\tif ((uniques[-2]-uniques[-1])/len(dataset))<(sub_thresh*0.5):\n",
    "\t\t\t\t\tbreak\n",
    "\t\texcept:\n",
    "\t\t\tpass\n",
    "\tarr=np.round(np.diff(np.flip(uniques))/len(dataset),4)>sub_thresh\n",
    "\tprint(\"the values in arr:\",arr)\n",
    "\tcont=len(uniques)-1\n",
    "\tfound=False\n",
    "\tfor j in range(cont,0,-1):\n",
    "\t\tfor i in range(len(arr)):\n",
    "\t\t\tif i+j==len(arr)+1:\n",
    "\t\t\t\tbreak\n",
    "\t\t\tif arr[i:i+j].all():\n",
    "\t\t\t\tidx=i\n",
    "\t\t\t\tfound=True\n",
    "\t\t\t\tbreak\n",
    "\t\tif found:\n",
    "\t\t\tcont=j\n",
    "\t\t\tbreak\n",
    "\ttry:\n",
    "\t\tidx\n",
    "\texcept NameError:\t\t\n",
    "\t\tif len(uniques)>1:\n",
    "\t\t\tif ((uniques[-2]-uniques[-1])/len(dataset))<(sub_thresh*0.5):\n",
    "\t\t\t\tidx = len(uniques)-1\n",
    "\t\t\t\t\t\n",
    "\tthresh=np.flip(threshes)[idx]\n",
    "\tresults.find_duplicates(thresh=thresh)\n",
    "\tprint('\\nThreshold fixed at:'+str(thresh)+' at continuity count of '+str(cont))\n",
    "\tprint('Total Unique samples collected:', len(results.unique_ids))\n",
    "\tprint('Imagenames of Unique samples are', results.unique_ids) #this is the list of filenames\n",
    "\tunique_fname=[sample.filename for sample in dataset if sample.id in results.unique_ids]\n",
    "\tdataset.delete()\n",
    "\treturn unique_fname\n",
    "\n",
    "\n",
    "if __name__=='__main__':\n",
    "\tdataset_dir='C://Users//320199927//Desktop//DATA4exp//New folder' # Provide path to image folder\n",
    "\tunique_files=find_unique(dataset_dir,sub_thresh=0.01,subset_files=None)"
   ]
  }
 ],
 "metadata": {
  "kernelspec": {
   "display_name": "base",
   "language": "python",
   "name": "python3"
  },
  "language_info": {
   "codemirror_mode": {
    "name": "ipython",
    "version": 3
   },
   "file_extension": ".py",
   "mimetype": "text/x-python",
   "name": "python",
   "nbconvert_exporter": "python",
   "pygments_lexer": "ipython3",
   "version": "3.9.12"
  },
  "vscode": {
   "interpreter": {
    "hash": "7f356df8c3538e96c7b54691155e2034a237f889adf626032358aa6b92eae161"
   }
  }
 },
 "nbformat": 4,
 "nbformat_minor": 5
}
