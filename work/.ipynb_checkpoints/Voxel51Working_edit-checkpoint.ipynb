{
 "cells": [
  {
   "cell_type": "markdown",
   "id": "3ca24a44-0fd6-4884-893b-0777e35d5679",
   "metadata": {},
   "source": [
    "This is VOxel 51 edit\n"
   ]
  },
  {
   "cell_type": "code",
   "execution_count": 1,
   "id": "f5fe8319",
   "metadata": {},
   "outputs": [],
   "source": [
    "import fiftyone as fo\n",
    "import fiftyone.brain as fob\n",
    "import fiftyone.brain.internal.models as fbm\n",
    "import numpy as np"
   ]
  },
  {
   "cell_type": "code",
   "execution_count": 2,
   "id": "0241d832",
   "metadata": {},
   "outputs": [],
   "source": [
    "model = fbm.load_model(\"simple-resnet-cifar10\")"
   ]
  },
  {
   "cell_type": "code",
   "execution_count": 3,
   "id": "87d3e3a4",
   "metadata": {},
   "outputs": [],
   "source": [
    "def find_unique(dataset_dir,sub_thresh=0.1,subset_files=None):#THRESHOLD IS DEFAULT THRESHOLD\n",
    "\ttry:\n",
    "\t\tfo.core.dataset.delete_non_persistent_datasets()\n",
    "\texcept:\n",
    "\t\tpass\n",
    "\tdataset = fo.Dataset.from_dir(dataset_dir=dataset_dir,dataset_type=fo.types.ImageDirectory,name='temp1',)\n",
    "\tif subset_files is not None:\n",
    "\t\tfor sample in dataset:\n",
    "\t\t\tif sample.filename not in subset_files:\n",
    "\t\t\t\tdataset.delete_samples(sample.id)\n",
    "\tembeddings = dataset.compute_embeddings(model, batch_size=16)\n",
    "\tresults = fob.compute_similarity(dataset, embeddings=embeddings, brain_key=\"img_sim\")\n",
    "\tuniques,threshes=[],[]\n",
    "\tfor thresh in np.arange(0.01,1,0.1):\n",
    "\t\ttry:\n",
    "\t\t\tresults.find_duplicates(thresh=thresh)\n",
    "\t\t\tprint('Unique samples found:'+ str(len(results.unique_ids)) + ' at thresh='+str(thresh))\n",
    "\t\t\tuniques.append(len(results.unique_ids))\n",
    "\t\t\tthreshes.append(thresh)\n",
    "\t\t\tif len(uniques)>1:\n",
    "\t\t\t\tif ((uniques[-2]-uniques[-1])/len(dataset))<(sub_thresh*0.5):\n",
    "\t\t\t\t\tbreak\n",
    "\t\texcept:\n",
    "\t\t\tpass\n",
    "\tarr=np.round(np.diff(np.flip(uniques))/len(dataset),4)>sub_thresh\n",
    "\tprint(\"the values in arr:\",arr)\n",
    "\tcont=len(uniques)-1\n",
    "\tfound=False\n",
    "\tfor j in range(cont,0,-1):\n",
    "\t\tfor i in range(len(arr)):\n",
    "\t\t\tif i+j==len(arr)+1:\n",
    "\t\t\t\tbreak\n",
    "\t\t\tif arr[i:i+j].all():\n",
    "\t\t\t\tidx=i\n",
    "\t\t\t\tfound=True\n",
    "\t\t\t\tbreak\n",
    "\t\tif found:\n",
    "\t\t\tcont=j\n",
    "\t\t\tbreak\n",
    "\ttry:\n",
    "\t\tidx\n",
    "\texcept NameError:\t\t\n",
    "\t\tif len(uniques)>1:\n",
    "\t\t\tif ((uniques[-2]-uniques[-1])/len(dataset))<(sub_thresh*0.5):\n",
    "\t\t\t\tidx = len(uniques)-1\n",
    "\t\t\t\t\t\n",
    "\tthresh=np.flip(threshes)[idx]\n",
    "\tresults.find_duplicates(thresh=thresh)\n",
    "\tprint('\\nThreshold fixed at:'+str(thresh)+' at continuity count of '+str(cont))\n",
    "\tprint('Total Unique samples collected:', len(results.unique_ids))\n",
    "\tunique_fname=[sample.filename for sample in dataset if sample.id in results.unique_ids]\n",
    "\tdataset.delete()\n",
    "\treturn unique_fname"
   ]
  },
  {
   "cell_type": "code",
   "execution_count": 4,
   "id": "5e9b954a",
   "metadata": {},
   "outputs": [
    {
     "name": "stdout",
     "output_type": "stream",
     "text": [
      " 100% |█████████████████| 239/239 [288.7ms elapsed, 0s remaining, 827.8 samples/s]      \n",
      " 100% |█████████████████| 239/239 [7.3s elapsed, 0s remaining, 34.0 samples/s]      \n",
      "Generating index...\n",
      "Index complete\n",
      "Computing duplicate samples...\n",
      "Duplicates computation complete\n",
      "Unique samples found:125 at thresh=0.01\n",
      "Computing duplicate samples...\n",
      "Duplicates computation complete\n",
      "Unique samples found:28 at thresh=0.11\n",
      "Computing duplicate samples...\n",
      "Duplicates computation complete\n",
      "Unique samples found:8 at thresh=0.21000000000000002\n",
      "Computing duplicate samples...\n",
      "Duplicates computation complete\n",
      "Unique samples found:3 at thresh=0.31000000000000005\n",
      "the values in arr: [False False  True]\n",
      "Computing duplicate samples...\n",
      "Duplicates computation complete\n",
      "\n",
      "Threshold fixed at:0.11 at continuity count of 1\n",
      "Total Unique samples collected: 28\n"
     ]
    }
   ],
   "source": [
    "if __name__=='__main__':\n",
    "\tdataset_dir='C://Users//320199927//Desktop//SUBHASH ALL IMPORTANT INFO//FAM-025-0029-2//Images//C1_1.3.6.1.4.1.35190.4.1.20210608.931990773451' # Provide path to image folder\n",
    "\tunique_files=find_unique(dataset_dir,sub_thresh=0.1,subset_files=None)\n",
    "        "
   ]
  },
  {
   "cell_type": "code",
   "execution_count": 5,
   "id": "8fa15547",
   "metadata": {},
   "outputs": [],
   "source": [
    "#C:\\Users\\320199927\\Desktop\\SUBHASH ALL IMPORTANT INFO\\FAM-025-0029-2\\Images\\C1_1.3.6.1.4.1.35190.4.1.20210608.931990773451"
   ]
  },
  {
   "cell_type": "code",
   "execution_count": 6,
   "id": "9e5625b1",
   "metadata": {},
   "outputs": [
    {
     "name": "stdout",
     "output_type": "stream",
     "text": [
      "['C1_1.3.6.1.4.1.35190.4.1.20210608.931990773451-img0000.jpg', 'C1_1.3.6.1.4.1.35190.4.1.20210608.931990773451-img0017.jpg', 'C1_1.3.6.1.4.1.35190.4.1.20210608.931990773451-img0019.jpg', 'C1_1.3.6.1.4.1.35190.4.1.20210608.931990773451-img0023.jpg', 'C1_1.3.6.1.4.1.35190.4.1.20210608.931990773451-img0025.jpg', 'C1_1.3.6.1.4.1.35190.4.1.20210608.931990773451-img0030.jpg', 'C1_1.3.6.1.4.1.35190.4.1.20210608.931990773451-img0045.jpg', 'C1_1.3.6.1.4.1.35190.4.1.20210608.931990773451-img0055.jpg', 'C1_1.3.6.1.4.1.35190.4.1.20210608.931990773451-img0071.jpg', 'C1_1.3.6.1.4.1.35190.4.1.20210608.931990773451-img0079.jpg', 'C1_1.3.6.1.4.1.35190.4.1.20210608.931990773451-img0101.jpg', 'C1_1.3.6.1.4.1.35190.4.1.20210608.931990773451-img0115.jpg', 'C1_1.3.6.1.4.1.35190.4.1.20210608.931990773451-img0120.jpg', 'C1_1.3.6.1.4.1.35190.4.1.20210608.931990773451-img0126.jpg', 'C1_1.3.6.1.4.1.35190.4.1.20210608.931990773451-img0135.jpg', 'C1_1.3.6.1.4.1.35190.4.1.20210608.931990773451-img0143.jpg', 'C1_1.3.6.1.4.1.35190.4.1.20210608.931990773451-img0154.jpg', 'C1_1.3.6.1.4.1.35190.4.1.20210608.931990773451-img0167.jpg', 'C1_1.3.6.1.4.1.35190.4.1.20210608.931990773451-img0182.jpg', 'C1_1.3.6.1.4.1.35190.4.1.20210608.931990773451-img0190.jpg', 'C1_1.3.6.1.4.1.35190.4.1.20210608.931990773451-img0197.jpg', 'C1_1.3.6.1.4.1.35190.4.1.20210608.931990773451-img0201.jpg', 'C1_1.3.6.1.4.1.35190.4.1.20210608.931990773451-img0205.jpg', 'C1_1.3.6.1.4.1.35190.4.1.20210608.931990773451-img0208.jpg', 'C1_1.3.6.1.4.1.35190.4.1.20210608.931990773451-img0210.jpg', 'C1_1.3.6.1.4.1.35190.4.1.20210608.931990773451-img0212.jpg', 'C1_1.3.6.1.4.1.35190.4.1.20210608.931990773451-img0216.jpg', 'C1_1.3.6.1.4.1.35190.4.1.20210608.931990773451-img0222.jpg']\n"
     ]
    }
   ],
   "source": [
    "print(unique_files)"
   ]
  },
  {
   "cell_type": "code",
   "execution_count": 7,
   "id": "f91fb231",
   "metadata": {},
   "outputs": [],
   "source": [
    "# import fiftyone as fo\n",
    "# import os\n",
    "# import fiftyone.utils.yolo as fouy\n",
    "\n",
    "# dataset_dir = \"/mnt/hd2/sarthak/workspace/data1\"\n",
    "\n",
    "# dataset = fo.Dataset.from_images_dir(dataset_dir)\n",
    "# dataset.persistent = True\n",
    "# dataset\n",
    "# classes=[\"0\",\"1\",\"2\",\"3\",\"4\",\"5\",\"6\",\"7\",\"8\",\"9\",\"10\",\"11\",\"12\",\"13\",\"14\",\"15\",\"16\",\"17\",\"18\",\"19\",\"20\",\"21\",\"22\",\"23\",\"24\",\"25\"]\n",
    "# # Export images and ground truth labels to disk\n",
    "# dataset.export(\n",
    "#     export_dir=\"/mnt/hd2/sarthak/data\",\n",
    "#     dataset_type=fo.types.YOLOv5Dataset,\n",
    "#     label_field=\"ground_truth\",\n",
    "#     classes=classes,\n",
    "# )\n",
    "\n",
    "# # Export predictions\n",
    "# dataset.export(\n",
    "#     dataset_type=fo.types.YOLOv5Dataset,\n",
    "#     labels_path=\"/mnt/hd2/sarthak/data/predictions\",\n",
    "#     label_field=\"predictions\",\n",
    "#     classes=classes,\n",
    "# )\n",
    "\n",
    "# # Now load ground truth labels into a new dataset\n",
    "# dataset2 = fo.Dataset.from_dir(\n",
    "#     dataset_dir=\"/mnt/hd2/sarthak/workspace/data1\",\n",
    "#     dataset_type=fo.types.YOLOv5Dataset,\n",
    "#     label_field=\"ground_truth\",\n",
    "# )\n",
    "# dataset2.count(\"ground_truth.detections\")\n",
    "\n",
    "\n",
    "\n",
    "\n",
    "# fouy.add_yolo_labels(\n",
    "#     dataset2,\n",
    "#     label_field=\"predictions\",\n",
    "#     labels_path=\"/mnt/hd2/SaiPhaniKumar/GI_Auto-main/src/models/yolov5/runs/val/exp3/labels\",\n",
    "#     classes=classes,\n",
    "# )\n",
    "\n",
    "# dataset2\n",
    "\n"
   ]
  },
  {
   "cell_type": "code",
   "execution_count": 8,
   "id": "a46467ab",
   "metadata": {},
   "outputs": [],
   "source": [
    "# results.plot_distances()._figure"
   ]
  },
  {
   "cell_type": "code",
   "execution_count": null,
   "id": "5059dcfd",
   "metadata": {},
   "outputs": [],
   "source": []
  },
  {
   "cell_type": "code",
   "execution_count": null,
   "id": "d807b50b",
   "metadata": {},
   "outputs": [],
   "source": []
  }
 ],
 "metadata": {
  "kernelspec": {
   "display_name": "Python 3 (ipykernel)",
   "language": "python",
   "name": "python3"
  },
  "language_info": {
   "codemirror_mode": {
    "name": "ipython",
    "version": 3
   },
   "file_extension": ".py",
   "mimetype": "text/x-python",
   "name": "python",
   "nbconvert_exporter": "python",
   "pygments_lexer": "ipython3",
   "version": "3.12.0"
  }
 },
 "nbformat": 4,
 "nbformat_minor": 5
}
