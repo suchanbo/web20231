{
 "cells": [
  {
   "cell_type": "code",
   "execution_count": 1,
   "id": "3aa51ca3",
   "metadata": {},
   "outputs": [],
   "source": [
    "import fiftyone as fo\n",
    "import fiftyone.brain as fob\n",
    "import fiftyone.brain.internal.models as fbm\n",
    "import numpy as np\n",
    "\n",
    "model = fbm.load_model(\"simple-resnet-cifar10\")\n",
    "\n",
    "def find_unique(dataset_dir,sub_thresh=0.01,subset_files=None):\n",
    "\ttry:\n",
    "\t\tfo.core.dataset.delete_non_persistent_datasets()\n",
    "\texcept:\n",
    "\t\tpass\n",
    "\tdataset = fo.Dataset.from_dir(dataset_dir=dataset_dir,dataset_type=fo.types.ImageDirectory,name='temp1',)\n",
    "\tif subset_files is not None:\n",
    "\t\tfor sample in dataset:\n",
    "\t\t\tif sample.filename not in subset_files:\n",
    "\t\t\t\tdataset.delete_samples(sample.id)\n",
    "\tembeddings = dataset.compute_embeddings(model, batch_size=16)\n",
    "\tresults = fob.compute_similarity(dataset, embeddings=embeddings, brain_key=\"img_sim\")\n",
    "\tuniques,threshes=[],[]\n",
    "\tfor thresh in np.arange(0.01,1,0.01):\n",
    "\t    try:\n",
    "\t        results.find_duplicates(thresh=thresh)\n",
    "\t        print('Unique samples found:'+ str(len(results.unique_ids)) + ' at thresh='+str(thresh))\n",
    "\t        uniques.append(len(results.unique_ids))\n",
    "\t        threshes.append(thresh)\n",
    "\t        if len(uniques)>1:\n",
    "\t        \tif ((uniques[-2]-uniques[-1])/len(dataset))<(sub_thresh*0.5):\n",
    "\t        \t\tbreak\n",
    "\t    except:\n",
    "\t        pass\n",
    "\tarr=np.round(np.diff(np.flip(uniques))/len(dataset),4)>sub_thresh\n",
    "\tprint(\"the values in arr:\",arr)\n",
    "\tcont=len(uniques)-1\n",
    "\tfound=False\n",
    "\tfor j in range(cont,0,-1):\n",
    "\t    for i in range(len(arr)):\n",
    "\t        if i+j==len(arr)+1:\n",
    "\t            break\n",
    "\t        if arr[i:i+j].all():\n",
    "\t            idx=i\n",
    "\t            found=True\n",
    "\t            break\n",
    "\t    if found:\n",
    "\t    \tcont=j\n",
    "\t    \tbreak\n",
    "\ttry:\n",
    "\t\tidx\n",
    "\texcept NameError:\t\t\n",
    "\t\tif len(uniques)>1:\n",
    "\t\t\tif ((uniques[-2]-uniques[-1])/len(dataset))<(sub_thresh*0.5):\n",
    "\t\t\t\tidx = len(uniques)-1\n",
    "\t\t\t\t\t\n",
    "\tthresh=np.flip(threshes)[idx]\n",
    "\tresults.find_duplicates(thresh=thresh)\n",
    "\tprint('\\nThreshold fixed at:'+str(thresh)+' at continuity count of '+str(cont))\n",
    "\tprint('Total Unique samples collected:', len(results.unique_ids))\n",
    "\tunique_fname=[sample.filename for sample in dataset if sample.id in results.unique_ids]\n",
    "\tdataset.delete()\n",
    "\treturn unique_fname\n",
    "\n",
    "\n",
    "def main():\n",
    "\tfrom find_unique import find_unique\n",
    "\tdataset_dir=r'\\\\glbmiaas01cf021\\\\BMGF\\\\DATA\\\\ARC_DATA\\\\main_test\\\\FAM-025-0004-2\\\\New folder'\n",
    "\tunique_files=find_unique(dataset_dir)"
   ]
  },
  {
   "cell_type": "code",
   "execution_count": 2,
   "id": "bfb73bcb",
   "metadata": {},
   "outputs": [
    {
     "data": {
      "text/plain": [
       "<fiftyone.brain.internal.models.torch.TorchImageModel at 0x20a8b7d04c0>"
      ]
     },
     "execution_count": 2,
     "metadata": {},
     "output_type": "execute_result"
    }
   ],
   "source": [
    "model"
   ]
  },
  {
   "cell_type": "code",
   "execution_count": 3,
   "id": "2887f6eb",
   "metadata": {},
   "outputs": [
    {
     "name": "stdout",
     "output_type": "stream",
     "text": [
      "<fiftyone.brain.internal.models.torch.TorchImageModel object at 0x0000020A8B7D04C0>\n"
     ]
    }
   ],
   "source": [
    "print(model)"
   ]
  },
  {
   "cell_type": "code",
   "execution_count": 4,
   "id": "af88b105",
   "metadata": {},
   "outputs": [
    {
     "ename": "AttributeError",
     "evalue": "'TorchImageModel' object has no attribute 'summary'",
     "output_type": "error",
     "traceback": [
      "\u001b[1;31m---------------------------------------------------------------------------\u001b[0m",
      "\u001b[1;31mAttributeError\u001b[0m                            Traceback (most recent call last)",
      "Input \u001b[1;32mIn [4]\u001b[0m, in \u001b[0;36m<cell line: 1>\u001b[1;34m()\u001b[0m\n\u001b[1;32m----> 1\u001b[0m \u001b[43mmodel\u001b[49m\u001b[38;5;241;43m.\u001b[39;49m\u001b[43msummary\u001b[49m()\n",
      "\u001b[1;31mAttributeError\u001b[0m: 'TorchImageModel' object has no attribute 'summary'"
     ]
    }
   ],
   "source": [
    "model.summary()"
   ]
  },
  {
   "cell_type": "code",
   "execution_count": 6,
   "id": "d5c87496",
   "metadata": {},
   "outputs": [
    {
     "ename": "SyntaxError",
     "evalue": "invalid syntax (3187389601.py, line 1)",
     "output_type": "error",
     "traceback": [
      "\u001b[1;36m  Input \u001b[1;32mIn [6]\u001b[1;36m\u001b[0m\n\u001b[1;33m    mopip install pytorch-model-summary\u001b[0m\n\u001b[1;37m          ^\u001b[0m\n\u001b[1;31mSyntaxError\u001b[0m\u001b[1;31m:\u001b[0m invalid syntax\n"
     ]
    }
   ],
   "source": [
    "mopip install pytorch-model-summary"
   ]
  },
  {
   "cell_type": "code",
   "execution_count": 15,
   "id": "38a2191e",
   "metadata": {},
   "outputs": [
    {
     "ename": "ImportError",
     "evalue": "cannot import name 'torchsummary' from 'torch' (C:\\Users\\320199927\\Anaconda3\\lib\\site-packages\\torch\\__init__.py)",
     "output_type": "error",
     "traceback": [
      "\u001b[1;31m---------------------------------------------------------------------------\u001b[0m",
      "\u001b[1;31mImportError\u001b[0m                               Traceback (most recent call last)",
      "Input \u001b[1;32mIn [15]\u001b[0m, in \u001b[0;36m<cell line: 2>\u001b[1;34m()\u001b[0m\n\u001b[0;32m      1\u001b[0m \u001b[38;5;28;01mimport\u001b[39;00m \u001b[38;5;21;01mtorch\u001b[39;00m\n\u001b[1;32m----> 2\u001b[0m \u001b[38;5;28;01mfrom\u001b[39;00m \u001b[38;5;21;01mtorch\u001b[39;00m \u001b[38;5;28;01mimport\u001b[39;00m torchsummary\n\u001b[0;32m      3\u001b[0m \u001b[38;5;28;01mfrom\u001b[39;00m \u001b[38;5;21;01mtorchvision\u001b[39;00m \u001b[38;5;28;01mimport\u001b[39;00m models\n\u001b[0;32m      4\u001b[0m \u001b[38;5;28;01mfrom\u001b[39;00m \u001b[38;5;21;01mtorchsummary\u001b[39;00m \u001b[38;5;28;01mimport\u001b[39;00m summary\n",
      "\u001b[1;31mImportError\u001b[0m: cannot import name 'torchsummary' from 'torch' (C:\\Users\\320199927\\Anaconda3\\lib\\site-packages\\torch\\__init__.py)"
     ]
    }
   ],
   "source": [
    "\n",
    "import torch\n",
    "from torch import torchsummary\n",
    "from torchvision import models\n",
    "from torchsummary import summary"
   ]
  },
  {
   "cell_type": "code",
   "execution_count": 13,
   "id": "5dedefec",
   "metadata": {
    "scrolled": true
   },
   "outputs": [
    {
     "ename": "AttributeError",
     "evalue": "'TorchImageModel' object has no attribute 'children'",
     "output_type": "error",
     "traceback": [
      "\u001b[1;31m---------------------------------------------------------------------------\u001b[0m",
      "\u001b[1;31mAttributeError\u001b[0m                            Traceback (most recent call last)",
      "Input \u001b[1;32mIn [13]\u001b[0m, in \u001b[0;36m<cell line: 3>\u001b[1;34m()\u001b[0m\n\u001b[0;32m      1\u001b[0m \u001b[38;5;28;01mimport\u001b[39;00m \u001b[38;5;21;01mtorch\u001b[39;00m\n\u001b[0;32m      2\u001b[0m \u001b[38;5;66;03m# show input shape\u001b[39;00m\n\u001b[1;32m----> 3\u001b[0m \u001b[38;5;28mprint\u001b[39m(\u001b[43msummary\u001b[49m\u001b[43m(\u001b[49m\u001b[43mmodel\u001b[49m\u001b[43m,\u001b[49m\u001b[43m \u001b[49m\u001b[43mtorch\u001b[49m\u001b[38;5;241;43m.\u001b[39;49m\u001b[43mzeros\u001b[49m\u001b[43m(\u001b[49m\u001b[43m(\u001b[49m\u001b[38;5;241;43m1\u001b[39;49m\u001b[43m,\u001b[49m\u001b[43m \u001b[49m\u001b[38;5;241;43m1\u001b[39;49m\u001b[43m,\u001b[49m\u001b[43m \u001b[49m\u001b[38;5;241;43m28\u001b[39;49m\u001b[43m,\u001b[49m\u001b[43m \u001b[49m\u001b[38;5;241;43m28\u001b[39;49m\u001b[43m)\u001b[49m\u001b[43m)\u001b[49m\u001b[43m,\u001b[49m\u001b[43m \u001b[49m\u001b[43mshow_input\u001b[49m\u001b[38;5;241;43m=\u001b[39;49m\u001b[38;5;28;43;01mTrue\u001b[39;49;00m\u001b[43m)\u001b[49m)\n\u001b[0;32m      5\u001b[0m \u001b[38;5;66;03m# show output shape\u001b[39;00m\n\u001b[0;32m      6\u001b[0m \u001b[38;5;28mprint\u001b[39m(summary(model, torch\u001b[38;5;241m.\u001b[39mzeros((\u001b[38;5;241m1\u001b[39m, \u001b[38;5;241m1\u001b[39m, \u001b[38;5;241m28\u001b[39m, \u001b[38;5;241m28\u001b[39m)), show_input\u001b[38;5;241m=\u001b[39m\u001b[38;5;28;01mFalse\u001b[39;00m))\n",
      "File \u001b[1;32m~\\Anaconda3\\lib\\site-packages\\pytorch_model_summary\\model_summary.py:110\u001b[0m, in \u001b[0;36msummary\u001b[1;34m(model, batch_size, show_input, show_hierarchical, print_summary, max_depth, show_parent_layers, *inputs)\u001b[0m\n\u001b[0;32m    107\u001b[0m hooks \u001b[38;5;241m=\u001b[39m []\n\u001b[0;32m    109\u001b[0m \u001b[38;5;66;03m# register id of parent modules\u001b[39;00m\n\u001b[1;32m--> 110\u001b[0m \u001b[43mbuild_module_tree\u001b[49m\u001b[43m(\u001b[49m\u001b[43mmodel\u001b[49m\u001b[43m)\u001b[49m\n\u001b[0;32m    112\u001b[0m \u001b[38;5;66;03m# register hook\u001b[39;00m\n\u001b[0;32m    113\u001b[0m model\u001b[38;5;241m.\u001b[39mapply(register_hook)\n",
      "File \u001b[1;32m~\\Anaconda3\\lib\\site-packages\\pytorch_model_summary\\model_summary.py:40\u001b[0m, in \u001b[0;36msummary.<locals>.build_module_tree\u001b[1;34m(module)\u001b[0m\n\u001b[0;32m     36\u001b[0m \u001b[38;5;66;03m# Defining summary for the main module\u001b[39;00m\n\u001b[0;32m     37\u001b[0m module_summary[\u001b[38;5;28mid\u001b[39m(module)] \u001b[38;5;241m=\u001b[39m {\u001b[38;5;124m'\u001b[39m\u001b[38;5;124mmodule_name\u001b[39m\u001b[38;5;124m'\u001b[39m: \u001b[38;5;28mstr\u001b[39m(module\u001b[38;5;241m.\u001b[39m\u001b[38;5;18m__class__\u001b[39m)\u001b[38;5;241m.\u001b[39msplit(\u001b[38;5;124m\"\u001b[39m\u001b[38;5;124m.\u001b[39m\u001b[38;5;124m\"\u001b[39m)[\u001b[38;5;241m-\u001b[39m\u001b[38;5;241m1\u001b[39m]\u001b[38;5;241m.\u001b[39msplit(\u001b[38;5;124m\"\u001b[39m\u001b[38;5;124m'\u001b[39m\u001b[38;5;124m\"\u001b[39m)[\u001b[38;5;241m0\u001b[39m],\n\u001b[0;32m     38\u001b[0m                               \u001b[38;5;124m'\u001b[39m\u001b[38;5;124mparent_layers\u001b[39m\u001b[38;5;124m'\u001b[39m: \u001b[38;5;124m'\u001b[39m\u001b[38;5;124m'\u001b[39m, \u001b[38;5;124m'\u001b[39m\u001b[38;5;124mid_parent\u001b[39m\u001b[38;5;124m'\u001b[39m: \u001b[38;5;28;01mNone\u001b[39;00m, \u001b[38;5;124m'\u001b[39m\u001b[38;5;124mdepth\u001b[39m\u001b[38;5;124m'\u001b[39m: \u001b[38;5;241m0\u001b[39m, \u001b[38;5;124m'\u001b[39m\u001b[38;5;124mn_children\u001b[39m\u001b[38;5;124m'\u001b[39m: \u001b[38;5;241m0\u001b[39m}\n\u001b[1;32m---> 40\u001b[0m \u001b[43m_in\u001b[49m\u001b[43m(\u001b[49m\u001b[43mmodule\u001b[49m\u001b[43m,\u001b[49m\u001b[43m \u001b[49m\u001b[43mid_parent\u001b[49m\u001b[38;5;241;43m=\u001b[39;49m\u001b[38;5;28;43mid\u001b[39;49m\u001b[43m(\u001b[49m\u001b[43mmodule\u001b[49m\u001b[43m)\u001b[49m\u001b[43m,\u001b[49m\u001b[43m \u001b[49m\u001b[43mdepth\u001b[49m\u001b[38;5;241;43m=\u001b[39;49m\u001b[38;5;241;43m1\u001b[39;49m\u001b[43m)\u001b[49m\n\u001b[0;32m     42\u001b[0m \u001b[38;5;66;03m# Defining layers that will be printed\u001b[39;00m\n\u001b[0;32m     43\u001b[0m \u001b[38;5;28;01mfor\u001b[39;00m k, v \u001b[38;5;129;01min\u001b[39;00m module_summary\u001b[38;5;241m.\u001b[39mitems():\n",
      "File \u001b[1;32m~\\Anaconda3\\lib\\site-packages\\pytorch_model_summary\\model_summary.py:19\u001b[0m, in \u001b[0;36msummary.<locals>.build_module_tree.<locals>._in\u001b[1;34m(module, id_parent, depth)\u001b[0m\n\u001b[0;32m     18\u001b[0m \u001b[38;5;28;01mdef\u001b[39;00m \u001b[38;5;21m_in\u001b[39m(module, id_parent, depth):\n\u001b[1;32m---> 19\u001b[0m     \u001b[38;5;28;01mfor\u001b[39;00m c \u001b[38;5;129;01min\u001b[39;00m \u001b[43mmodule\u001b[49m\u001b[38;5;241;43m.\u001b[39;49m\u001b[43mchildren\u001b[49m():\n\u001b[0;32m     20\u001b[0m         \u001b[38;5;66;03m# ModuleList and Sequential do not count as valid layers\u001b[39;00m\n\u001b[0;32m     21\u001b[0m         \u001b[38;5;28;01mif\u001b[39;00m \u001b[38;5;28misinstance\u001b[39m(c, (nn\u001b[38;5;241m.\u001b[39mModuleList, nn\u001b[38;5;241m.\u001b[39mSequential)):\n\u001b[0;32m     22\u001b[0m             _in(c, id_parent, depth)\n",
      "\u001b[1;31mAttributeError\u001b[0m: 'TorchImageModel' object has no attribute 'children'"
     ]
    }
   ],
   "source": [
    "import torch\n",
    "# show input shape\n",
    "print(summary(model, torch.zeros((1, 1, 28, 28)), show_input=True))\n",
    "\n",
    "# show output shape\n",
    "print(summary(model, torch.zeros((1, 1, 28, 28)), show_input=False))\n",
    "\n",
    "# show output shape and hierarchical view of net\n",
    "print(summary(model, torch.zeros((1, 1, 28, 28)), show_input=False, show_hierarchical=True))\n"
   ]
  },
  {
   "cell_type": "code",
   "execution_count": null,
   "id": "cc702301",
   "metadata": {},
   "outputs": [],
   "source": []
  },
  {
   "cell_type": "code",
   "execution_count": null,
   "id": "2c20cc90",
   "metadata": {},
   "outputs": [],
   "source": []
  }
 ],
 "metadata": {
  "kernelspec": {
   "display_name": "Python 3 (ipykernel)",
   "language": "python",
   "name": "python3"
  },
  "language_info": {
   "codemirror_mode": {
    "name": "ipython",
    "version": 3
   },
   "file_extension": ".py",
   "mimetype": "text/x-python",
   "name": "python",
   "nbconvert_exporter": "python",
   "pygments_lexer": "ipython3",
   "version": "3.9.12"
  }
 },
 "nbformat": 4,
 "nbformat_minor": 5
}
