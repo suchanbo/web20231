{
 "cells": [
  {
   "cell_type": "code",
   "execution_count": 1,
   "id": "f9df8a7a",
   "metadata": {},
   "outputs": [],
   "source": [
    "import fiftyone as fo\n",
    "import fiftyone.brain as fob\n",
    "import fiftyone.brain.internal.models as fbm\n",
    "import numpy as np\n",
    "\n",
    "model = fbm.load_model(\"simple-resnet-cifar10\")\n",
    "#np.random.seed(41)\n",
    "def find_unique(dataset_dir,sub_thresh=0.01,subset_files=None):\n",
    "\ttry:\n",
    "\t\tfo.core.dataset.delete_non_persistent_datasets()\n",
    "\texcept:\n",
    "\t\tpass\n",
    "\tdataset = fo.Dataset.from_dir(dataset_dir=dataset_dir,dataset_type=fo.types.ImageDirectory,name='temp1',)\n",
    "\tif subset_files is not None:\n",
    "\t\tfor sample in dataset:\n",
    "\t\t\tif sample.filename not in subset_files:\n",
    "\t\t\t\tdataset.delete_samples(sample.id)\n",
    "\tembeddings = dataset.compute_embeddings(model, batch_size=16)\n",
    "\tprint(\"shape of embedding is:\",embeddings.shape)\n",
    "\tresults = fob.compute_similarity(dataset, embeddings=embeddings, brain_key=\"img_sim\")\n",
    "\tuniques,threshes=[],[]\n",
    "\tfor thresh in np.arange(0.01,1,10):\n",
    "\t\ttry:\n",
    "\t\t\tresults.find_duplicates(thresh=thresh)\n",
    "\t\t\tprint('Unique samples found:'+ str(len(results.unique_ids)) + ' at thresh='+str(thresh))\n",
    "\t\t\tuniques.append(len(results.unique_ids))\n",
    "\t\t\tthreshes.append(thresh)\n",
    "\t\t\tif len(uniques)>1:\n",
    "\t\t\t\tif ((uniques[-2]-uniques[-1])/len(dataset))<(sub_thresh*0.5):\n",
    "\t\t\t\t\tbreak\n",
    "\t\texcept:\n",
    "\t\t\tpass\n",
    "\tarr=np.round(np.diff(np.flip(uniques))/len(dataset),4)>sub_thresh\n",
    "\tprint(\"the values in arr:\",arr)\n",
    "\tcont=len(uniques)-1\n",
    "\tfound=False\n",
    "\t#\n",
    "\tprint(\"test\")\n",
    "\tfor j in range(cont,0,-1):\n",
    "\t\tfor i in range(len(arr)):\n",
    "\t\t\tif i+j==len(arr)+1:\n",
    "\t\t\t\tbreak\n",
    "\t\t\tif arr[i:i+j].all():\n",
    "\t\t\t\tidx=i\n",
    "\t\t\t\tfound=True\n",
    "\t\t\t\tbreak\n",
    "\t\tif found:\n",
    "\t\t\tcont=j\n",
    "\t\t\tbreak\n",
    "\t#idx=0\t\n",
    "\ttry:\n",
    "\t\tidx\n",
    "\texcept NameError:\t\t\n",
    "\t\tif len(uniques)>1:\n",
    "\t\t\tif ((uniques[-2]-uniques[-1])/len(dataset))<(sub_thresh*0.5):\n",
    "\t\t\t\tidx = len(uniques)-1\n",
    "\t\t\t\tprint(\"length of uniques is\",len(uniques))\n",
    "\t\t\t\t\t\n",
    "\tthresh=np.flip(threshes)[idx]\n",
    "\tresults.find_duplicates(thresh=thresh)\n",
    "\tprint('\\nThreshold fixed at:'+str(thresh)+' at continuity count of '+str(cont))\n",
    "\tprint('Total Unique samples collected:', len(results.unique_ids))\n",
    "\tprint('Imagenames of Unique samples are', results.unique_ids) #this is the list of filenames\n",
    "\tunique_fname=[sample.filename for sample in dataset if sample.id in results.unique_ids]\n",
    "\tdataset.delete()\n",
    "\treturn unique_fname\n",
    "\n",
    "\n"
   ]
  },
  {
   "cell_type": "code",
   "execution_count": 2,
   "id": "0e930a7a",
   "metadata": {},
   "outputs": [
    {
     "name": "stdout",
     "output_type": "stream",
     "text": [
      " 100% |█████████████████| 110/110 [169.3ms elapsed, 0s remaining, 668.8 samples/s] \n",
      " 100% |█████████████████| 110/110 [4.0s elapsed, 0s remaining, 27.7 samples/s]      \n",
      "shape of embedding is: (110, 512)\n",
      "Generating index...\n",
      "Index complete\n",
      "Computing duplicate samples...\n",
      "Duplicates computation complete\n",
      "Unique samples found:52 at thresh=0.01\n",
      "the values in arr: []\n",
      "test\n"
     ]
    },
    {
     "ename": "UnboundLocalError",
     "evalue": "local variable 'idx' referenced before assignment",
     "output_type": "error",
     "traceback": [
      "\u001b[1;31m---------------------------------------------------------------------------\u001b[0m",
      "\u001b[1;31mUnboundLocalError\u001b[0m                         Traceback (most recent call last)",
      "\u001b[1;32mc:\\Users\\320199927\\Desktop\\SUBHASH ALL IMPORTANT INFO\\Find_Unique_Working_notebook - Copy.ipynb Cell 2\u001b[0m in \u001b[0;36m<cell line: 1>\u001b[1;34m()\u001b[0m\n\u001b[0;32m      <a href='vscode-notebook-cell:/c%3A/Users/320199927/Desktop/SUBHASH%20ALL%20IMPORTANT%20INFO/Find_Unique_Working_notebook%20-%20Copy.ipynb#W1sZmlsZQ%3D%3D?line=0'>1</a>\u001b[0m \u001b[39mif\u001b[39;00m \u001b[39m__name__\u001b[39m\u001b[39m==\u001b[39m\u001b[39m'\u001b[39m\u001b[39m__main__\u001b[39m\u001b[39m'\u001b[39m:\n\u001b[0;32m      <a href='vscode-notebook-cell:/c%3A/Users/320199927/Desktop/SUBHASH%20ALL%20IMPORTANT%20INFO/Find_Unique_Working_notebook%20-%20Copy.ipynb#W1sZmlsZQ%3D%3D?line=1'>2</a>\u001b[0m \tdataset_dir\u001b[39m=\u001b[39m\u001b[39m'\u001b[39m\u001b[39mC://Users//320199927//Desktop//SUBHASH ALL IMPORTANT INFO//Images4exp_110\u001b[39m\u001b[39m'\u001b[39m \u001b[39m# Provide path to image folder\u001b[39;00m\n\u001b[1;32m----> <a href='vscode-notebook-cell:/c%3A/Users/320199927/Desktop/SUBHASH%20ALL%20IMPORTANT%20INFO/Find_Unique_Working_notebook%20-%20Copy.ipynb#W1sZmlsZQ%3D%3D?line=2'>3</a>\u001b[0m \tunique_files\u001b[39m=\u001b[39mfind_unique(dataset_dir,sub_thresh\u001b[39m=\u001b[39;49m\u001b[39m0.01\u001b[39;49m,subset_files\u001b[39m=\u001b[39;49m\u001b[39mNone\u001b[39;49;00m)\n",
      "\u001b[1;32mc:\\Users\\320199927\\Desktop\\SUBHASH ALL IMPORTANT INFO\\Find_Unique_Working_notebook - Copy.ipynb Cell 2\u001b[0m in \u001b[0;36mfind_unique\u001b[1;34m(dataset_dir, sub_thresh, subset_files)\u001b[0m\n\u001b[0;32m     <a href='vscode-notebook-cell:/c%3A/Users/320199927/Desktop/SUBHASH%20ALL%20IMPORTANT%20INFO/Find_Unique_Working_notebook%20-%20Copy.ipynb#W1sZmlsZQ%3D%3D?line=55'>56</a>\u001b[0m \t\t\tidx \u001b[39m=\u001b[39m \u001b[39mlen\u001b[39m(uniques)\u001b[39m-\u001b[39m\u001b[39m1\u001b[39m\n\u001b[0;32m     <a href='vscode-notebook-cell:/c%3A/Users/320199927/Desktop/SUBHASH%20ALL%20IMPORTANT%20INFO/Find_Unique_Working_notebook%20-%20Copy.ipynb#W1sZmlsZQ%3D%3D?line=56'>57</a>\u001b[0m \t\t\t\u001b[39mprint\u001b[39m(\u001b[39m\"\u001b[39m\u001b[39mlength of uniques is\u001b[39m\u001b[39m\"\u001b[39m,\u001b[39mlen\u001b[39m(uniques))\n\u001b[1;32m---> <a href='vscode-notebook-cell:/c%3A/Users/320199927/Desktop/SUBHASH%20ALL%20IMPORTANT%20INFO/Find_Unique_Working_notebook%20-%20Copy.ipynb#W1sZmlsZQ%3D%3D?line=58'>59</a>\u001b[0m thresh\u001b[39m=\u001b[39mnp\u001b[39m.\u001b[39mflip(threshes)[idx]\n\u001b[0;32m     <a href='vscode-notebook-cell:/c%3A/Users/320199927/Desktop/SUBHASH%20ALL%20IMPORTANT%20INFO/Find_Unique_Working_notebook%20-%20Copy.ipynb#W1sZmlsZQ%3D%3D?line=59'>60</a>\u001b[0m results\u001b[39m.\u001b[39mfind_duplicates(thresh\u001b[39m=\u001b[39mthresh)\n\u001b[0;32m     <a href='vscode-notebook-cell:/c%3A/Users/320199927/Desktop/SUBHASH%20ALL%20IMPORTANT%20INFO/Find_Unique_Working_notebook%20-%20Copy.ipynb#W1sZmlsZQ%3D%3D?line=60'>61</a>\u001b[0m \u001b[39mprint\u001b[39m(\u001b[39m'\u001b[39m\u001b[39m\\n\u001b[39;00m\u001b[39mThreshold fixed at:\u001b[39m\u001b[39m'\u001b[39m\u001b[39m+\u001b[39m\u001b[39mstr\u001b[39m(thresh)\u001b[39m+\u001b[39m\u001b[39m'\u001b[39m\u001b[39m at continuity count of \u001b[39m\u001b[39m'\u001b[39m\u001b[39m+\u001b[39m\u001b[39mstr\u001b[39m(cont))\n",
      "\u001b[1;31mUnboundLocalError\u001b[0m: local variable 'idx' referenced before assignment"
     ]
    }
   ],
   "source": [
    "if __name__=='__main__':\n",
    "\tdataset_dir='C://Users//320199927//Desktop//SUBHASH ALL IMPORTANT INFO//Images4exp_110' # Provide path to image folder\n",
    "\tunique_files=find_unique(dataset_dir,sub_thresh=0.01,subset_files=None)"
   ]
  }
 ],
 "metadata": {
  "kernelspec": {
   "display_name": "base",
   "language": "python",
   "name": "python3"
  },
  "language_info": {
   "codemirror_mode": {
    "name": "ipython",
    "version": 3
   },
   "file_extension": ".py",
   "mimetype": "text/x-python",
   "name": "python",
   "nbconvert_exporter": "python",
   "pygments_lexer": "ipython3",
   "version": "3.9.12"
  },
  "vscode": {
   "interpreter": {
    "hash": "7f356df8c3538e96c7b54691155e2034a237f889adf626032358aa6b92eae161"
   }
  }
 },
 "nbformat": 4,
 "nbformat_minor": 5
}
